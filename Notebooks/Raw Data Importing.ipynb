{
 "cells": [
  {
   "cell_type": "code",
   "execution_count": 1,
   "metadata": {},
   "outputs": [],
   "source": [
    "#Load dependencies\n",
    "import os\n",
    "import pandas as pd"
   ]
  },
  {
   "cell_type": "code",
   "execution_count": 2,
   "metadata": {},
   "outputs": [],
   "source": [
    "#Define data files to import\n",
    "consumptionfile='../Raw Data Files/EIA Annual Electricity Fuel Consumption by State.xls'\n",
    "generationfile='../Raw Data Files/EIA Annual Electricity Generation by State.xls'\n",
    "coolheatfile='../Raw Data Files/EIA Cooling-Heating Degree Days by Region.csv'\n",
    "emissionfile='../Raw Data Files/EIA Emission Annual Data by State.xls'\n",
    "greenhousefile='../Raw Data Files/ghgp_data_by_year.xlsx'"
   ]
  },
  {
   "cell_type": "code",
   "execution_count": 3,
   "metadata": {},
   "outputs": [],
   "source": [
    "#Read data files into Panda dataframes\n",
    "tempconsumption=pd.ExcelFile(consumptionfile)\n",
    "tempgeneration=pd.ExcelFile(generationfile)\n",
    "tempcoolheat=pd.read_csv(coolheatfile,header=4)\n",
    "tempemission=pd.ExcelFile(emissionfile)\n",
    "tempgreenhouse=pd.ExcelFile(greenhousefile)\n",
    "consumption=tempconsumption.parse('Consumption_1990 - 2018 Final',skiprows=1,header=0)\n",
    "generation=tempgeneration.parse('Net_Generation_1990-2018 Final',skiprows=1,header=0)\n",
    "emission=tempemission.parse('State Emissions',header=0)\n",
    "greenhouse=tempgreenhouse.parse('Direct Emitters',skiprows=3,header=0)"
   ]
  },
  {
   "cell_type": "code",
   "execution_count": 4,
   "metadata": {},
   "outputs": [],
   "source": [
    "#Rename columns of dataframes for consistency and simplicity\n",
    "consumption.columns=['year','state','producer type','energy source','consumption']\n",
    "generation.columns=['year','state','producer type','energy source','generation (mwh)']\n",
    "tempcoolheat.columns=['year','US cooling','US heating','Pacific heating',\n",
    "                  'Mountain heating','West South Central heating',\n",
    "                  'East South Central heating','South Atlantic heating',\n",
    "                  'West North Central heating','East North Central heating',\n",
    "                  'Middle Atlantic heating','New England heating',\n",
    "                  'Pacific cooling','Mountain cooling','West South Central cooling',\n",
    "                  'East South Central cooling','South Atlantic cooling',\n",
    "                  'West North Central cooling','East North Central cooling',\n",
    "                  'Middle Atlantic cooling','New England cooling']\n",
    "emission.columns=['year','state','producer type','energy source','CO2 (MT)','SO2 (MT)','NOx (MT)']\n",
    "greenhouse.columns=['facility id','frs id','facility name','city','state','zip','address','county',\n",
    "                    'latitude','longitude','naics code','industry type (subparts)','industry type (sectors)',\n",
    "                    '2018 direct emissions','2017 direct emissions','2016 direct emissions','2015 direct emissions',\n",
    "                    '2014 direct emissions','2013 direct emissions','2012 direct emissions','2011 direct emissions']"
   ]
  },
  {
   "cell_type": "code",
   "execution_count": 5,
   "metadata": {},
   "outputs": [],
   "source": [
    "#Change values in energy source column for consistency and create US state instead of US-Total\n",
    "consumption=consumption.replace({'state':{'US-Total':'US','US-TOTAL':'US'},'energy source':{'Natural Gas (Mcf)':'Natural Gas','Coal (Short Tons)':'Coal',\n",
    "                                                      'Petroleum (Barrels)':'Petroleum','Geothermal (Billion Btu)':'Geothermal',\n",
    "                                                      'Other Gases (Billion Btu)':'Other Gases','Other Gases (Billion BTU)':'Other Gases'}})\n",
    "emission=emission.replace({'state':{'US-Total':'US','US-TOTAL':'US'},'energy source':{'All Sources':'Total'}})\n",
    "generation=generation.replace({'state':{'US-Total':'US','US-TOTAL':'US'}})"
   ]
  },
  {
   "cell_type": "code",
   "execution_count": 6,
   "metadata": {},
   "outputs": [],
   "source": [
    "#Select data for the total power industry within states and exclude Guam, Puetro Rico, and Virgin Islands\n",
    "stateconsumption=consumption.loc[consumption['producer type']=='Total Electric Power Industry']\n",
    "stategeneration=generation.loc[generation['producer type']=='Total Electric Power Industry']\n",
    "stateemission=emission.loc[emission['producer type']=='Total Electric Power Industry']\n",
    "temppowergreenhouse=greenhouse.loc[greenhouse['industry type (sectors)']=='Power Plants']\n",
    "powergreenhouse=temppowergreenhouse[~temppowergreenhouse.state.isin(['GU','PR',\"VI\"])]"
   ]
  },
  {
   "cell_type": "code",
   "execution_count": 7,
   "metadata": {},
   "outputs": [],
   "source": [
    "#Create state greenhouse emissions dataframe\n",
    "tempgreenhouse=powergreenhouse.groupby(['state'])['2018 direct emissions','2017 direct emissions','2016 direct emissions',\n",
    "                                                   '2015 direct emissions','2014 direct emissions','2013 direct emissions',\n",
    "                                                   '2012 direct emissions','2011 direct emissions'].sum()\n",
    "tempgreenhouse.columns=['2018','2017','2016','2015','2014','2013','2012','2011']\n",
    "seriesgreenhouse=tempgreenhouse.stack()\n",
    "stategreenhouse=pd.DataFrame(seriesgreenhouse)\n",
    "stategreenhouse.reset_index(inplace=True)\n",
    "stategreenhouse.columns=['state','year','greenhouse emissions']\n",
    "stategreenhouse['year']=pd.to_numeric(stategreenhouse['year'])"
   ]
  },
  {
   "cell_type": "code",
   "execution_count": 8,
   "metadata": {},
   "outputs": [],
   "source": [
    "#Merge state datasets together to create state dataframe\n",
    "tempstatedata=pd.merge(stateconsumption,stategeneration,on=['year','state','producer type','energy source'],how='outer')\n",
    "statedata=pd.merge(stateemission,tempstatedata,on=['year','state','producer type','energy source'],how='outer')"
   ]
  },
  {
   "cell_type": "code",
   "execution_count": 9,
   "metadata": {},
   "outputs": [],
   "source": [
    "#Create greenhouse dataframe\n",
    "facility=powergreenhouse.drop(['city','zip','address','county','naics code','industry type (subparts)','industry type (sectors)',\n",
    "                    '2018 direct emissions','2017 direct emissions','2016 direct emissions','2015 direct emissions',\n",
    "                    '2014 direct emissions','2013 direct emissions','2012 direct emissions','2011 direct emissions'],axis=1)\n",
    "tempfacilityemission=powergreenhouse.drop(['frs id','facility name','city','state','zip','address','county',\n",
    "                    'latitude','longitude','naics code','industry type (subparts)','industry type (sectors)'],axis=1)\n",
    "tempfacilityemission.columns=['facility id','2018','2017','2016','2015','2014','2013','2012','2011']\n",
    "facilityemission=pd.melt(tempfacilityemission,id_vars=['facility id'],value_vars=['2018','2017','2016','2015','2014','2013','2012','2011']) \n",
    "facilityemission.columns=['facility id','year','greenhouse emissions']"
   ]
  },
  {
   "cell_type": "code",
   "execution_count": 10,
   "metadata": {},
   "outputs": [],
   "source": [
    "#Create coolheat dataframe\n",
    "tempheat=tempcoolheat.drop(['US cooling','Pacific cooling','Mountain cooling','West South Central cooling','East South Central cooling',\n",
    "                    'South Atlantic cooling','West North Central cooling','East North Central cooling','Middle Atlantic cooling','New England cooling'],axis=1)\n",
    "tempcool=tempcoolheat.drop(['US heating','Pacific heating','Mountain heating','West South Central heating','East South Central heating',\n",
    "                    'South Atlantic heating','West North Central heating','East North Central heating','Middle Atlantic heating','New England heating'],axis=1)\n",
    "tempheat.columns=['year','US','Pacific','Mountain','West South Central','East South Central','South Atlantic','West North Central','East North Central',\n",
    "              'Middle Atlantic','New England']\n",
    "tempcool.columns=['year','US','Pacific','Mountain','West South Central','East South Central','South Atlantic','West North Central','East North Central',\n",
    "              'Middle Atlantic','New England']\n",
    "heat=pd.melt(tempheat,id_vars=['year'],value_vars=['US','Pacific','Mountain','West South Central','East South Central','South Atlantic','West North Central',\n",
    "                                                   'East North Central','Middle Atlantic','New England'])\n",
    "cool=pd.melt(tempcool,id_vars=['year'],value_vars=['US','Pacific','Mountain','West South Central','East South Central','South Atlantic','West North Central',\n",
    "                                                   'East North Central','Middle Atlantic','New England'])\n",
    "heat.columns=['year','region','heating degree days']\n",
    "cool.columns=['year','region','cooling degree days']\n",
    "mergecoolheat=pd.merge(heat,cool,on=['year','region'],how='outer')\n",
    "coolheat=mergecoolheat[~mergecoolheat.year.isin(['2021','2020','2019'])]"
   ]
  },
  {
   "cell_type": "code",
   "execution_count": 11,
   "metadata": {},
   "outputs": [],
   "source": [
    "#Export dataframes as csv files\n",
    "statedata.to_csv('../Clean Data Files/state data.csv',index=False,header=True)\n",
    "stategreenhouse.to_csv('../Clean Data Files/state greenhouse emissions.csv',index=False,header=True)\n",
    "facility.to_csv('../Clean Data Files/facility.csv',index=False,header=True)\n",
    "facilityemission.to_csv('../Clean Data Files/facility emissions.csv',index=False,header=True)\n",
    "coolheat.to_csv('../Clean Data Files/region degree days.csv',index=False,header=True)"
   ]
  },
  {
   "cell_type": "code",
   "execution_count": null,
   "metadata": {},
   "outputs": [],
   "source": []
  }
 ],
 "metadata": {
  "kernelspec": {
   "display_name": "Python 3",
   "language": "python",
   "name": "python3"
  },
  "language_info": {
   "codemirror_mode": {
    "name": "ipython",
    "version": 3
   },
   "file_extension": ".py",
   "mimetype": "text/x-python",
   "name": "python",
   "nbconvert_exporter": "python",
   "pygments_lexer": "ipython3",
   "version": "3.7.4"
  }
 },
 "nbformat": 4,
 "nbformat_minor": 4
}
